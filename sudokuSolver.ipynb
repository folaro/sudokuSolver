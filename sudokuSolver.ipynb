{
  "nbformat": 4,
  "nbformat_minor": 0,
  "metadata": {
    "colab": {
      "name": "sudokuSolver.ipynb",
      "provenance": [],
      "collapsed_sections": [],
      "authorship_tag": "ABX9TyPU3cJ3IrFEcMQdPm90eYng",
      "include_colab_link": true
    },
    "kernelspec": {
      "name": "python3",
      "display_name": "Python 3"
    }
  },
  "cells": [
    {
      "cell_type": "markdown",
      "metadata": {
        "id": "view-in-github",
        "colab_type": "text"
      },
      "source": [
        "<a href=\"https://colab.research.google.com/github/folaro/sudokuSolver/blob/main/sudokuSolver.ipynb\" target=\"_parent\"><img src=\"https://colab.research.google.com/assets/colab-badge.svg\" alt=\"Open In Colab\"/></a>"
      ]
    },
    {
      "cell_type": "code",
      "metadata": {
        "id": "tovajizDMFuj"
      },
      "source": [
        "#待求解宫格\n",
        "grid2 = [[0,0,0,0,5,0,8,0,0],\n",
        "     [0,0,7,0,0,1,6,0,0],\n",
        "     [0,0,0,7,0,2,0,3,0],\n",
        "     [0,0,8,0,0,0,0,0,0],\n",
        "     [0,0,0,2,9,0,3,7,0],\n",
        "     [4,0,0,0,0,0,0,0,5],\n",
        "     [8,0,2,0,0,7,0,0,0],\n",
        "     [0,4,0,0,3,0,0,1,8],\n",
        "     [0,0,6,0,0,0,0,0,0]]\n",
        "grid = [[0,0,0,3,0,7,4,0,0],\n",
        "     [9,0,0,0,0,4,0,0,8],\n",
        "     [3,7,0,0,0,0,0,6,0],\n",
        "     [8,2,0,9,0,0,6,0,0],\n",
        "     [0,0,1,2,0,0,9,0,4],\n",
        "     [0,4,0,0,3,8,0,5,0],\n",
        "     [2,0,8,6,9,0,7,0,0],\n",
        "     [0,9,0,0,0,0,0,0,0],\n",
        "     [7,5,0,0,0,0,0,0,6]]"
      ],
      "execution_count": null,
      "outputs": []
    },
    {
      "cell_type": "code",
      "metadata": {
        "id": "gsQJEZcbNh7m",
        "outputId": "ff30d9b4-2ca8-4e95-e738-1f126e939230",
        "colab": {
          "base_uri": "https://localhost:8080/"
        }
      },
      "source": [
        "import numpy as np\n",
        "print(np.matrix(grid))"
      ],
      "execution_count": null,
      "outputs": [
        {
          "output_type": "stream",
          "text": [
            "[[5 3 0 0 7 0 0 0 0]\n",
            " [6 0 0 1 9 5 0 0 0]\n",
            " [0 9 8 0 0 0 0 6 0]\n",
            " [8 0 0 0 6 0 0 0 3]\n",
            " [4 0 0 8 0 3 0 0 1]\n",
            " [7 0 0 0 2 0 0 0 6]\n",
            " [0 6 0 0 0 0 2 8 0]\n",
            " [0 0 0 4 1 9 0 0 5]\n",
            " [0 0 0 0 8 0 0 7 9]]\n"
          ],
          "name": "stdout"
        }
      ]
    },
    {
      "cell_type": "code",
      "metadata": {
        "id": "2xSHbC-IN2P2"
      },
      "source": [
        "def possible(y,x,n):\n",
        "  global grid\n",
        "  for i in range(0,9):\n",
        "    if grid[y][i]==n:\n",
        "      return False\n",
        "  for i in range(0,9):\n",
        "    if grid[i][x]==n:\n",
        "      return False\n",
        "  xx = (x//3)*3\n",
        "  yy = (y//3)*3\n",
        "  for i in range(0,3):\n",
        "    for j in range(0,3):\n",
        "      if grid[yy+i][xx+j]==n:\n",
        "        return False\n",
        "  return True\n"
      ],
      "execution_count": null,
      "outputs": []
    },
    {
      "cell_type": "code",
      "metadata": {
        "id": "0D2WB-QpPANX",
        "outputId": "6db7026c-0f0f-4dc1-9be8-d30ceee33257",
        "colab": {
          "base_uri": "https://localhost:8080/"
        }
      },
      "source": [
        "possible(4,4,3)"
      ],
      "execution_count": null,
      "outputs": [
        {
          "output_type": "execute_result",
          "data": {
            "text/plain": [
              "False"
            ]
          },
          "metadata": {
            "tags": []
          },
          "execution_count": 9
        }
      ]
    },
    {
      "cell_type": "code",
      "metadata": {
        "id": "xqtQOQTRPHdN",
        "outputId": "55fe7e41-7636-406e-d4e0-f2c1555b90f6",
        "colab": {
          "base_uri": "https://localhost:8080/"
        }
      },
      "source": [
        "possible(4,4,5)"
      ],
      "execution_count": null,
      "outputs": [
        {
          "output_type": "execute_result",
          "data": {
            "text/plain": [
              "False"
            ]
          },
          "metadata": {
            "tags": []
          },
          "execution_count": 16
        }
      ]
    },
    {
      "cell_type": "code",
      "metadata": {
        "id": "Fm7wxxZ8QY83"
      },
      "source": [
        "def solve():\n",
        "  global grid\n",
        "  for y in range(9):\n",
        "    for x in range(9):\n",
        "      if grid[y][x]==0:\n",
        "        for n in range(1,10):\n",
        "          if possible(y,x,n):\n",
        "            grid[y][x]=n\n",
        "            solve()\n",
        "            grid[y][x]=0\n",
        "        return\n",
        "  print(np.matrix(grid))\n",
        "  input(\"More?\")"
      ],
      "execution_count": null,
      "outputs": []
    },
    {
      "cell_type": "code",
      "metadata": {
        "id": "pW4nxFWxRl3e",
        "outputId": "30a6f0a5-c486-4943-f7a0-9aea84c5167d",
        "colab": {
          "base_uri": "https://localhost:8080/"
        }
      },
      "source": [
        "solve()"
      ],
      "execution_count": null,
      "outputs": [
        {
          "output_type": "stream",
          "text": [
            "[[1 8 5 3 6 7 4 2 9]\n",
            " [9 6 2 5 1 4 3 7 8]\n",
            " [3 7 4 8 2 9 5 6 1]\n",
            " [8 2 7 9 4 5 6 1 3]\n",
            " [5 3 1 2 7 6 9 8 4]\n",
            " [6 4 9 1 3 8 2 5 7]\n",
            " [2 1 8 6 9 3 7 4 5]\n",
            " [4 9 6 7 5 1 8 3 2]\n",
            " [7 5 3 4 8 2 1 9 6]]\n",
            "More?\n"
          ],
          "name": "stdout"
        }
      ]
    }
  ]
}